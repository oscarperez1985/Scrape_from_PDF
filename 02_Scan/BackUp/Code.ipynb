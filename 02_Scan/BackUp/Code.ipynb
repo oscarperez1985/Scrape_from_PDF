{
 "cells": [
  {
   "cell_type": "markdown",
   "id": "6ef4fb47",
   "metadata": {},
   "source": [
    "## Installations needed:\n",
    "#### pip install pytesseract\n",
    "    # Python-tesseract is an optical character recognition (OCR) tool for python. That is, it will recognize and “read” the text embedded in images.\n",
    "#### pip install Pillow\n",
    "    # The Python Imaging Library adds image processing capabilities to your Python interpreter.\n",
    "#### pip install Wand\n",
    "    # Wand is a ctypes-based simple ImageMagick binding for Python, supporting 2.7, 3.3+, and PyPy. All functionalities of MagickWand API are implemented in Wand.\n",
    "#### Install ImageMagick from: https://imagemagick.org/index.php\n",
    "#### Install GhostScript from: https://www.ghostscript.com/\n",
    "#### Install tesseract-ocr-w64 from: https://github.com/UB-Mannheim/tesseract/wiki\n",
    "##### Add tesseract.exe path in my code: pytesseract.pytesseract.tesseract_cmd = r'C:\\Program Files\\Tesseract-OCR\\tesseract.exe'"
   ]
  },
  {
   "cell_type": "code",
   "execution_count": 2,
   "id": "308c661d",
   "metadata": {},
   "outputs": [
    {
     "data": {
      "text/plain": [
       "['=\\nWesternGeco\\n\\nORIGINAL NAME\\nLINE: BA-17800\\nProject: Amazon_Basin_BFZ1\\nSurvey: Amazon Basin — Offshore Brazil\\n\\nCLIENT: WGC - SPEC\\n\\nNEW NAME\\n\\nLINE: 0275-1780\\nSURVEY: 0275_2D_SPEC_BFZ_PH1\\nCLIENT: WGC - SPEC\\nDATE: Jan, 2000\\n',\n",
       " '- - - - —\\nLine : BA-17800 Sequence# 166 raG ,\\nKER\\n\\nProject : Amazon_Basin_BFZ1 BA\\nParty : 58 Western Inlet HUGHES\\nSurvey : Amazon Basin — Offshore Brazil =\\n\\nWestern Geophysical\\n\\n‘Line Summary\\n\\nStart of Line ‘End of Line ‘Totals\\n“FSID . 19341001 : 19402408\\nShotpoint 132941 160607 27667\\nGood Shotpoint 132941 160445 27505\\nDate/Time 15:34 JUL 11,2000 09:21 JUL 12,2000\\nGood File 25 4608\\nVolser wo00172 wo0178 7\\nWater Depth 78 84\\nGun vol Array 1 4500 3740 Shipment:\\n; Gun vol Array 2 7\\n) Line Heading: 310.1 ‘Line Status: ‘Accepted ‘Cables 1 ‘sxres_ 1\\n[ “Comments\\n\\n‘Wind: SSE 10 KNoTS\\n\\nSeas: 3 FEET ;\\nNavigation Reel Number: P58R063\\n\\nFirst Production Reel Number: W00172 ‘Last Production Reel Number: w00178\\n\\nCable Depth: 8 Meters\\n\\nRecord Length: 12 sec.\\n\\nBOL CABLE NOISE: §&.6uBARS\\nEOL CABLE NOISE: 1.9uBARS\\n\\nBOL F/A:9.9\\nEOL F/A:15.6\\n\\nBad Cable Depth Indicators: 2, 8,22\\n\\nBad Birds/Compasses: NONE\\nBad Bird DI s: NONE\\n\\nBad Channels:NOISY 40,74,137,226,232,235,480; WEAK 57,475,478; Spiking 46; Removed during\\n\\nprocessing 216.\\n“Erased Channels: NONE\\n“Source Edits: SYNC ERRORS SP’S 137225, 137255, 137261, 143297, 144317,145115,\\n\\n150521, 151541, 151561, 156185,158441,158465,160277; MISFIRES SP’S 137573, 137579, 137585, 137591,\\n143957, 145067,145103, 145463, 145475, 145487, 145493.\\n\\nIsolated Edits: Missed SP 134285, SPs.160463,160487,160493,missed d/t lost of cable POWER. D/T\\nFISHING BOAT CROSSED CABLE and CUT TAIL-BUOY OFF.\\n\\n“Significant Edits: 160451 TO 160607.\\n\\nSpecial Events:GUNS 603,604 DISABLED GUN VOLUME 4340cu.in SP 137273; GUNS 101,102 DISABLED GUN\\nVOLUME 4040ci.in SP 137597; SP’s 138941 TO 139901 Riptide moving towards to tail of the cable;\\nGUNS 501 & 502 DISABLED GUN VOLUME 3740 cu.in. in SP 145499.SPs.159479-159629 Vessel offline\\npuss by current. (Max Doff 20.14m @ SP.159551).EARLY EOL. D/T FISHING BOAT CROSSED CABLE and\\n\\n“18:99 JUL 16 2000\\n',\n",
       " '- - - - =\\n‘Line : BA-17800 Sequence # 166 rZa0g\\nProject : Amazon_Basin_BFZ1 BAKER\\nHUGHES\\n\\nParty : 58 Western Inlet\\n\\nSurvey: Amazon Basin —- Offshore Brazil rs\\nWestern Geophysical\\n\\nComments\\n\\nCUT TAIL-BUOY OFF.LGSP(160445)@ 09:15.PICKING UP ALL GEAR TO GO AND RETRIVE TAIL BUOY.LINE\\n\\nINCOMPLETE.\\n\\n\"18:29 JUL 16 2000\\n',\n",
       " '‘Line: — BA-17800 ‘Sequence# 166 rag\\n\\nProject: Amazon Basin 99 2D HUGHES\\nParty: 58 Western Inlet .\\nSurvey: Amazon Basin — Offshore Brazil Western Geophysical\\n| Line Event Log\\n‘Shot File Fsid ‘Date ; Message\\n“0 19341001 0 000 00: 00. 00 New P2 Headers received.\\n\\n2000 193 15-34. 14 Job start parameter check completed with 0 errors\\nJob(WGS 1984 SAT),P294(WGS 84)\\nNo Job start parameters specified for Posnet Stations\\nNo Job start parameters specified for Posnet Targets\\nNo Job start parameters specified for Posnet general\\nRecording system verification complete\\nStarting job start parameter check\\nStarting line waypoint check\\nStatus...Verifying Trace Mapping Table\\nVerifying Posnet General parameters\\nVerifying Posnet Station parameters\\nVerifying Posnet Target parameters\\nVerifying recording system parameters\\nWarning...No Erased Channels defined\\n- Warning...No jobstart Waypoints defined\\n19341001 2000 193 15. 34- 24 T-2 TEST HARMONIC DISTORTION\\n19341001 2000 193 15: 34: 24 T-2 TEST HARMONIC DISTORTION\\n193 15-34: 24 T-4 TEST DRD\\n193 15 - 34.- 24 T-7 TEST IMPULSE RESPONSE\\n193 15. 34: 24 T-11 CROSSFEED ODDS\\n193 15. 34- 24 T-12 CROSSFEED EVENS\\n193 15 - 34- 24 T-13 PATTERN TEST ALL ZEROS\\n_ 193 15; 34: 24 T-13 PATTERN TEST ALL ONES\\n\\n41\\n\\n(733181 ~«65 \"49341041 2000\\n\\n(105\\n\\n“193 16 01 sysID 44 UHDR: Invalid FSID increment ~ 19341224 and 19341226\\n\\nsysID 44 UHDR: Invalid shotpoint number increment - 134279 and\\n134291\\n2000 193 16. 25- 10 NSP; NFSID;\\n19341241 2000 193 16: 28: 24 F/A:-2.9 W/D:77.2m\\n19341269 2000 193 16: : 44 V1- Invalid FSID increment 19341265 and 19341269\\n\\n134381 264\\n0\\n\\n02:48 JUL 13 2000 ‘Page\\n',\n",
       " \"Line: BA-17800 “Sequence # 166 rZaa\\n\\nProject: Amazon Basin 99 2D HUGHES\\nParty: 58 Western Inlet .\\nSurvey: Amazon Basin — Offshore Brazil Western Geophysical\\nShot File  Fsid ‘Date “Message\\n\\n134621 304 19341281 2000 193 16- 37.- 27 F/A:-3.6 W/D:82.0m\\n134861 344 19341321 2000 193 16: 46- 29 F/A:-4.1 W/D:94.2m\\n135101 384 19341361 2000 193 16: 55: 32 F/A:-4.4 W/D: 88.5m\\n135341 424 19341401 2000 193 17: 04.- 30 F/A:-4.9 W/D: 84.2m\\n(135581 464 19341001 2000 193 15: 34.- 14 F/A:-5.7 W/D:81.0m\\n135821 504 19341481 2000 193 17.- 22. 43 F/A:-6.5 W/D:74.5m\\n136061 544 19341521 2000 193 17: 31- 50 F/A:-7.2 W/D: 80.7m\\n136301 584 19341561 2000 193 17. 40- 50 F/A:-7.7 W/D:77.2m\\n136541 624 19341601 2000 193 17: 49- 47 F/A:-8.0 W/D: 87.7m\\n136781 664 19341641 2000 193 17. 58. 47 F/A:-7.7 W/D:120.7m\\n137021 704 19341681 2000 193 18-07. 44 F/A:-7.2 W/D:106.0m\\n137093 716 19341693 2000 193 18: 10. 25 EOR W00172\\n137099 717 19341694 2000 193 18: 10: 39 New Reel: VOLSER: W00173\\n\\nBOR W00173\\n\\n2000 193 18:10: 48 NSP; BOR;\\n137225 19341715 193 18- 15- 20 Src: 1 Gun 603 : Syne error: -1.5 '\\n137255 743 19341720 2000 193 18 - 16 - 28 Src: 1 Gun 603 : Sync error: 3.2 ;\\n137261 19341721 193 18: 16- 41 Src: 1 Gun 603 : Sync error: 2.1\\n193 18-16 - 42 F/A:-6.8 W/D: 96.7m\\n\\n137273 . 19341723 193 18: 17: 09 Src: 1 Gun: 603 Disabled. array volume 4340\\n\\nSrc: 1 Gun: 604 Disabled. array volume 4340\\n137501 784 (19341761 2000 193 18- 25 - 39 F/A:-6.5 W/D: 85.7m\\n137573 796 19341773 2000 193 18: 28- 22 Src: 1 Gun 101: Misfired!\\n137579 797 19341774 2000 193 18: 28: 35 Src: 1 Gun 101: Misfired!\\n137585 798 19341775 2000 193 18: 28- 49 Src: 1 Gun 101: Misfired!\\n137591 799 19341776 2000 193 18: 29- 02 Src: 1 Gun 101: Misfired!\\n[137597 800 19341777 2000 193 18: 29- 16 Src: 1 Gun: 101 Disabled. array volume 4040\\n\\nSrc: 1 Gun: 102 Disabled. array volume 4040\\n137741 824 “19341801 2000 193 18 - 34: 43 F/A: -6.2 W/D: 84.5m\\n1137981 &64 19341841 2000 193 18-: 43. 53 F/A:-5.7 W/D: 84.2m\\n138221 904 19341001 2000 193 15- 34- 14 F/A:-5.2 W/D: 82.0m\\n138461 %44 19341921 2000 193 19: 02.- 14 F/A:-3.9 W/D: 76.2m\\n138701 64 19341961 2000 193 19-11: 24 F/A: -2.7. W/D: 82.5m\\n138791 499 19341976 2000 193 19: 14- 53 138791 - 139109 ~ 35M OFFLINE D/T RIP CURRENTS\\n138941 1024 19342001 2000 193 19: 20: 40 F/A:-1.5 W/D: 79.0m\\n\\nRiptide at the front of the cable, moving towards tail of cable.\\n139181 1064 19342041 2000 193 19- 29: 52 F/A: 0.3 W/D:79.2m\\n139421 1104 19342081 2000 193 19: 38- 55 F/A: 1.5 W/D: 73.0m\\n139661 1144 19342121 2000 193 19- 47. 57 F/A: 2.4 W/D: 73.5m\\n139901 1184 19342161 2000 193 19: 57.- 06 F/A: 4.1 W/D:91.5m\\n\\nRiptide no longer apparent.\\n140141 1224 19342201 2000 193 20- 06- 20 F/A: 7.0 W/D: 88.0m\\n140381 1264 19342241 2000 193 20: 15: 38 F/A: 9.8 W/D: 87.2m\\n140435 0 19342250 2000 193 20-17: 42 V1- Invalid FSID increment 19342246 and 19342250\\n140621 1304 19342281 2000 193 20: 24- 46 F/A: 11.0 W/D: 84.0m\\n\\n02:48 JUL 13 2000 ‘Page 2\\n\",\n",
       " 'Le\\n\\nLine: BA-17800 Sequence # 166 ia\\nProject: Amazon Basin 99 2D BAR ES\\nParty: 58 Western Inlet a\\nSurvey: Amazon Basin — Offshore Brazil Western Geophysical\\n\\nShot File Fsid Date Message |\\n(140813 1336 19342313 2000 193 20: 32: 06 140813 - 140895 10M OFFLINE D/T RIP CURRENTS Na ge\\n140861 1344 19342321 2000 193 20: 33; 59 F/A: 12.0 W/D: 80.5m pte\\n(141101 1384 19342361 2000 193 20: 43: 20 F/A: 12.7 W/D: 83.0m pee SaaS Be ar are Soe\\n141293 1416 19342393 2000 193 20: 50 - 43 EOR Wo0173 eeeees |\\n441299 1417. 19342394 2000 193 20: 50: 57 NewReel: VOLSER:W00174\\nBOR W00174\\n| 2000 193 20: 51 - 06 NSP; BOR;\\nata 1424. (19342401 2000 193 20: 52- 35 F/A: 13.4 W/D:85.2m : :\\n(141581 1464 19342441 2000 193 21: 01- 56 F/A: 14.0 W/D: 88.5m\\n\\n(441821 1504 19342481 2000 193 21-11-22 F/A: 14.5 W/D:79.5m : s\\n\\n142061 1544 19342521 2000 193 21: = 44 F/A: 15.0 W/D:72.0m |\\n\\n(142301 1584 19342561 2000 193 21: 29: 57 F/A: 15.2 W/D: 86.2m\\n442541 1624 19342601 2000 193 21- 39: 15 F/A: 15.9 W/D:86.7m zs |\\n(142781 1664 19342641 2000 193 21; 48: 44 F/A: 16.5 W/D:86.0m _ : |\\n\"143021 1704 19342681 2000 193 21: BE 18.2 W/D:81.5m es eee |\\n143261 1744 19342721 2000 193 22: 07: 12 F/A: 19.1 W/D: 80.0m = See\\n43297 1750 19342727 2000 193 22 - 08: 36 Src: 1 Gun 607: Sync error: -1. rz |\\n143501 1784 19341001 2000 193 15: 34: 14 F/A: 19.6 W/D: 86.2m es aed\\n143741 1824 19342801 2000 193 22: 26: 00 F/A: 19.8 W/D:85.5m as\\n(143957 1860 19342837 2000 193 22: 34: 32 Sre:1 Gun 502: Misfired! _ me\\n143981 1864 19342841 2000 193 22: 35: 31 F/A: 18.7 W/D:86.2m eas a\\n(144221 1904 19341001 2000 193 22: 45- 09 F/A: 16.7 W/D:75.5m\\n| 144317 1920 19342897 2000 193 22: 48: : 58 Src: 1 Gun 601 : Sync error: 1.2 _ aa |\\n(144461 1944 19342921 2000 193 22: 54- 41 F/A: 15.3 W/D:97.0m - aes\\n(144701 1984 19342961 2000 193 23. 04- 09 F/A: 14.6 WID:85.5m er ee: ; |\\n444911—~«o 19342996 2000 193 23; 12: 16 V1 — Invalid FSID increment 19342993 and 19342996 ace\\n(144941 2024 «19343001 2000 193 23: 13. 25 F/A: 14.4 W/D:84.7m _ nia\\n(145067 2045 19343022 2000 193 23 : 18. 16 Src: 1 Gun 502 : Misfired! SS uy |\\n145103 2051 + 19343028 2000 193 23. 19. 39 Src: 1 Gun 502 : Misfired! Se 3 |\\n145109 2052 19343029 2000 193 23: 19: 53 Channel #46 Spiking. ‘ete: a: |\\n145115 2053 19343030 2000 193 23: 20: 06 Sre:1Gun502:Syncerror:1.4 $\\n(145181 2064 + 19343041 2000 193 23: 22: 39 F/A: 14.2 W/D: 83.0m = pease set toy ea\\n| 145307 0 19343062 2000 193 23: 27: 28 V 1 — Invalid FSID increment 19343058 and 19343062 as |\\n1145421 2104 19343081 2000 193 23: 31: 48 F/A: 13.2 WID:86.7m Pees\\n445463 2111 19343088 2000 193 23: 33: 24 Src:1Gun502:Misfired! |\\n145475 2113 19343090 2000 193 23: 33: 51 Src: 1 Gun 502: . Misfired! ie epee\\n445487 2115 19343092 2000 193 23: 34: 18 Src: 1 Gun 502: Misfired!\\n145493 2116 19343093 2000 193 23- 34- 31 Src: 1 Gun 502: Misfired! : : |\\n| 2000 193 23. 34: 32 EOR: W00174\\n(145499 2117 19343094 2000 193 23: 34- 45 New Reel: VOLSER: W00175 — ed\\n\\nSrc: 1 Gun: 501 Disabled. array volume 3740 |\\nSrc: 1 Gun: 502 Disabled. array volume 3740\\n| BOR: W00175\\n| 2000 193 23: 34. 56 NSP; BOR;\\n(145661 2144 19343121 2000 193 23: 40: 54 F/A: 12.5 W/D: 88. a aR oe |\\n\\n02:48 JUL 13 2000 Page 3\\n',\n",
       " \"Line: BA-17800\\nProject: Amazon Basin 99 2D\\nParty: 58 Western Inlet\\nSurvey: Amazon Basin — Offshore Brazil\\n\\n- Shot File\\n\\n‘Sequence# 166\\n\\n-\\n\\nia\\nBAKER\\nHUGHES\\n\\n“Western Geophysical\\n\\nFsid ‘Date Message\\n145901 2184 19343161 2000 193 23- 50: 03 F/A: 12.2 W/D: 81.7m\\n146015 0 19343180 2000 193 23 - 54- 22 V1- Invalid FSID increment 19343176 and 19343180\\n146141 2224 19343201 2000 193 23-59- 08 F/A: 11.7 W/D: 80.7m\\n146159 2227 19343204 2000 193 23- 59- 49 LSP OF DAY 193\\n146165 0 19400001 2000 194 00- 00- 03 V1 - Invalid FSID increment 19343204 and 19400001\\n'146165 2228 49400001 2000 194 00- 00- 03 sysID 44 UHDR: Invalid FSID increment - 19343204 and 19400001\\nFSP OF DAY 194\\n2000 194 00: 00- 12 NSP; NFSID;\\n146381 2264 “19400037 2000 194 00- 08. 12 F/A: 11.3 W/D:77.5m\\n146483 0 19400054 2000 194 00: 12- 04 V1 - Invalid FSID increment 19400051 and 19400054\\n[146621 2304 19400077 2000 194 00- 17- 22 F/A: 10.2 W/D:96.2m\\n146861 2344 19400117 2000 194 00: 26- 42 F/A: 10.0 W/D: 89.2m\\n147101 2384 19400157 2000 194 00: 36- 01 F/A: 9.7 W/D: 83.7m\\n147341 2424 19400197 2000 194 00- 45- 18 F/A: 9.4 W/D: 95.5m\\n147581 2464 19400237 2000 194 00- 54: 33 F/A: 8.7 W/D:90.5m\\n147821 2504 19400277 2000 194 01. 03- 37 F/A: 7.7 W/D: 86.0m\\n148061 2544 19400317 2000 194 01- 12- 44 F/A: 7.3 W/D: 90.2m\\n148301 2584 19400357 2000 194 01: 21: 52 F/A: 5.8 W/D: 75.2m\\n148541 2624 19400397 2000 194 01- 31- 00 F/A: 4.8 W/D: 92.2m\\n148781 2664 | 19400437 2000 194 01 40- 13 F/A: 3.8 W/D: 89.2m\\n149021 2704 19400477 2000 194 01.- 49- 28 F/A: 2.8 W/D: 93.5m\\n149261 2744 19400517 2000 194 01- 58- 40 F/A: 2.0 W/D: 89.0m\\n149501 2784 19400557 2000 194 02: 07: 52 F/A: 1.4 W/D: 88.5m\\n149693 2816 19400589 2000 194 02.- 15- 08 EOR: W00175\\n149699 2817 19400590 2000 194 02- 15 - 22 New Reel: VOLSER: W00176\\nBOR: W00176\\n“2000 194 02- 15 - 32 NSP; BOR;\\n149741 2824 49400597 2000 194 02- 16- 57 F/A: 1.1 W/D: 81.5m\\n1149981 2864 19400637 2000 194 02: 26- 09 F/A: 0.8 W/D: 87.5m\\n150221 2904 19400677 2000 194 02: 35- 24 F/A: 0.0 W/D: 85.7m\\n150461 2944 19341001 2000 193 15- 34- 14 F/A: 0.9 W/D: 86.2m\\n150521 2954 19400727 2000 194 02 - 46- 55 Sre: 1 Gun 203 : Sync error: 1.2\\n150701 2984 19400757 2000 194 02: 53: 53 F/A:-1.9 W/D:83.5m\\n150941 3024 19400797 2000 194 03- 03. 04 F/A:-2.2 W/D:86.0m\\n151181 3064 19400837 2000 194 03.- 12- 12 F/A:-2.2 W/D:84.5m\\n151421 3104 419400877 2000 194 03. 21: 36 F/A;-2.5 W/D:93.7m\\n151541 3124 19400897 2000 194 03.- 26- 24 Src: 1 Gun 203 : Sync error: 1.1.\\n151565 3128 19400901 2000 194 03.- 27- 21 Sre:1Gun 203: Sync error: 1.1\\n151649 3142 19400915 2000 194 03- 30- 43 OFFLINE 10M D/T CURRENTS, BACK IN @ S/P 151667, MAX OFF\\n12.46M @ S/P 151661\\n151661 3144 19400917 2000 194 03: 31: 11 F/A:-3.2 W/D:89.7m\\n151895 0 19400956 2000 194 03.- 40- 21 V1 - Invalid FSID increment 19400952 and 19400956\\n152141 3224 19400997 2000 194 03: 49- 56 F/A:-4.3 W/D:86.5m\\nF/A:-4.6 W/D:90.0m\\n152381 3264 “19401037 2000 194 03: 59- 18 F/A:-4.1 W/D:85.7m\\n\\n02:48 JUL 13 2000\\n\\nPage 4\\n\",\n",
       " 'Line: BA-17800 Sequence# 166 r2ag\\n\\nProject: Amazon Basin 99 2D BRUGHES\\nParty : 58 Western Inlet\\nSurvey: Amazon Basin — Offshore Brazil Western Geophysical\\n\\n: 39 F/A:-3.9\\n\\nW/D:88.2m\\nW/D:96.5m\\nW/D:88.0m\\nW/D:88.5m\\n\\n19401117\\n19401157\\n\\n: 04 F/A:-4.1\\n: 13 FIA:-4.4\\n: 31 F/A:-4.4 W/D:90.0m\\n: : 49 F/A:-4.5 W/D:99.0m\\n: 57- 39 EOR: W00176\\n\\n19401237\\n19341001\\n\\n153893 3516 19401289 2000 194\\n153899 3517 19401290 2000 194 04- 57- 53 New Reel: VOLSER: W00177\\nBOR: W00177\\n2000 194 04: 58- 04 NSP; BOR;\\n154061 3544 19401317 2000 194 05- 04: 14 F/A:-4.8 W/D104.0m\\n00 - 39 F/A:-4.4 W/D:94.2m\\n\\nW/D:84.5m\\nW/D:86.7m\\n\\n: 06 F/A:-3.4\\n: 31 F/A:-2.9\\n: 56 F/A:-2.5\\n: 21 F/A:-2.2\\n\\nW/D:83.7m\\nW/D:82.0m\\nW/D:85.5m\\n\\n155741\\n\\n: 25 F/A:-1.4\\n: 21 Sre: 1 Gun 203 : Sync error: 1.2\\n: 41 F/A:-1.1 W/D:81.5m\\n: 56 F/A:-0.7 W/D:83.2m\\n; 31 V1 -— Invalid FSID increment 19401750 and 19401754 ©\\n: 13 F/A:-0.2 W/D:83.7m\\n: 32 F/A:1.2 W/D:84.7m\\n: 55 F/A:1.7 W/D:85.0m\\n\\n07: 15: 32 F/A:2.5 W/D:85.5m\\n2000 194 07 - 18: 24 G1R3 STARTED BEING INTERMITTENT :\\n07 : 22 V1 - Invalid FSID increment 19401907 and 19401910\\n07 - 00 F/A:3.4 W/D:80.0m\\n07 - 15 F/A:4.5 W/D:86.2m\\n07 - 41 - 40 EOR:W00177\\n194 07: 41: 54 New Reel: VOLSER: W00178\\nBOR:W00178\\n2000 194 07: 42- 04 NSP; BOR;\\n158141 4224 19401997 2000 194 07: 43: 32 F/A:6.1 W/D:88.2m\\n158381 4264 19402037 2000 194 07: 53- 04 F/A:7.8 W/D:93.0m\\n158441 4274 19402047 2000 194 07: 55.- 27 Src: 1 Gun 203: Sync error: 1.2\\n158465 4278 19402051 2000 194 07: 56- 24 Src:1 Gun 203 : Sync error: 1.2\\n158621 4304 19402077 2000 194 08: 02- 39 F/A:8.6 W/D:86.5m\\n158861 4344 19402117 2000 194 08: 12- 07 F/A:9.3 W/D:84.2m\\n159101 4384 19402157 2000 194 08: 21- 36 F/A:10.0 W/D:85.0m\\n159341 4424 19402197 2000 194 08: 30: 56 F/A:11.1 W/D:91.5m\\n159479 4447 19402220 2000 194 08: 36- 19 159479-159629 VESSEL PUSHED OFFLINE BY CURRENT, MAX\\n\\nDOFF = 20.14M @ S/P 159551\\n\\n02:48 JUL 13 2000 Page 5\\n',\n",
       " 'BA-17800\\nProject: Amazon Basin 99 2D\\nParty: 58 Western Inlet\\nSurvey Amazon Basin — Offshore Brazil\\nShot File Fsid Date\\n(159581 4464 19402237 2000\\n(159623 O 19402244 2000\\n\\n(159821 4504\\n\\n=\\n\\nSequ # 166 “ail\\nquence BAKER\\nHUGHES\\nWestern Geophysical\\nMessage\\n\\n194 08 - 40: 23 F/A:11.2 WID: 97, 7m\\n194 08 : 42 - 09 V1- Invalid FSID increment 19402241 and 19402244\\n\\n|\\n|\\n|\\n\\n~ 49402277 2000 194 08: 50- 06 F/A:11.8 W/D:82.0m\\n(159839 4507 19402280 2000 194 08- 50- 52 OFFLINE 10M D/T CURRENTS, BACK IN @ S/P 159857, MAXOFF\\n| 14.16M @ S/P 159845\\n159995 OO. 19402306 2000 194 08 : 57: 04 V1- Invalid FSID increment 19402303 and 19402306 _\\n160061 4544 19402317 2000 194 08: 59: 42 F/A:13.1 W/D:88.7m\\n(160277 4580 19402353 2000 194 09 - 08 - 23 Sre:1 Gun 507:Syncerror:-1.4 00\\n(160301 4584 19402357 2000 194 09- 09- 21 f/a:14.9 W/D:81.5 SS\\n\"460445 4608 19402381 2000 194 09: 15- 07 LAST GOOD SHOT POINT ON LINE. Pipien are\\n460451 4609 19402382 2000 194 09- 15- 32 NSP; TE1; on s 3\\n160457 4610 19402383 2000 194 09: 15: 48 NSP; TE1; se ae\\n160469 4611 19402385 2000 194 09: 16: 06 sysID 44 UHDR: Invalid FSID increment - 19402383 and 19402385\\nsysID 44 UHDR: Invalid shotpoint number increment — 160457 and\\n160469\\n2000 194 09: 16: 16 NSP; NFSID; TE1;\\n/160475 4612 19402386 2000 194 09:16. 32NSP;TE1; eras Se\\n(160481 4613 19402387 2000 194 09: 16: 46 NSP; TE1; Nie See\\n160499 4614 19402390 2000 194 09- 17- 19 sysID 44 UHDR: Invalid FSID increment - 19402387 and 19402390\\nsysID 44 UHDR: Invalid shotpoint number increment - 160481 and\\n160499\\n2000 194 09: 17: 30 NSP; NFSID;\\n160607 4632 19402408 2000 194 09- 21- 36 EEOL. D/T FISHING BOAT CROSS CABLE . CUT TAIL-BUOY\\nOFF.\\nEOL. F/A:15.6 - W/D:84.0\\nEOL. CABLE NOISE: 1.9uB.\\nEOL. GUN VOL: 3740cu,in,\\nEEOL LOST TAIL BUOY LGSP: 160454 FSID: 2408 F/A: 15.6\\nPDOP: 1.3 HDOP: 1.0 W/D: 84.3 VEL: 1533.5\\n2000 194 09 - 21- 48 EOL; NSP;\\n\\n02:48 JUL 13 2000\\n\\nPage\\n']"
      ]
     },
     "execution_count": 2,
     "metadata": {},
     "output_type": "execute_result"
    }
   ],
   "source": [
    "from PIL import Image\n",
    "import pytesseract\n",
    "from wand.image import Image as wi\n",
    "import io\n",
    "\n",
    "pytesseract.pytesseract.tesseract_cmd = r'C:\\Program Files\\Tesseract-OCR\\tesseract.exe'\n",
    "\n",
    "f = r'./Sample_PDFs/0275-1780_ROB.pdf'\n",
    "\n",
    "def Get_text_from_image(f):\n",
    "   pdf=wi(filename=f,resolution=300)\n",
    "   pdfImg=pdf.convert('jpeg')\n",
    "   imgBlobs=[]\n",
    "   extracted_text=[]\n",
    "   for img in pdfImg.sequence:\n",
    "       page=wi(image=img)\n",
    "       imgBlobs.append(page.make_blob('jpeg'))\n",
    "\n",
    "   for imgBlob in imgBlobs:\n",
    "       im=Image.open(io.BytesIO(imgBlob))\n",
    "       text=pytesseract.image_to_string(im,lang='eng')\n",
    "       extracted_text.append(text)\n",
    "\n",
    "   return (extracted_text)\n",
    "\n",
    "Get_text_from_image(f)"
   ]
  },
  {
   "cell_type": "code",
   "execution_count": 4,
   "id": "4ae17cda",
   "metadata": {},
   "outputs": [],
   "source": [
    "# Save pdf to images\n",
    "with wi(filename=f, resolution=300) as img:\n",
    "    img.alpha_channel = False\n",
    "    img.save(filename='./Images/Image.png')"
   ]
  },
  {
   "cell_type": "code",
   "execution_count": null,
   "id": "58468453",
   "metadata": {},
   "outputs": [],
   "source": []
  }
 ],
 "metadata": {
  "kernelspec": {
   "display_name": "PythonData",
   "language": "python",
   "name": "pythondata"
  },
  "language_info": {
   "codemirror_mode": {
    "name": "ipython",
    "version": 3
   },
   "file_extension": ".py",
   "mimetype": "text/x-python",
   "name": "python",
   "nbconvert_exporter": "python",
   "pygments_lexer": "ipython3",
   "version": "3.9.12"
  }
 },
 "nbformat": 4,
 "nbformat_minor": 5
}
